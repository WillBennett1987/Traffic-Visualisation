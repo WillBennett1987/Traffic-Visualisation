{
  "nbformat": 4,
  "nbformat_minor": 0,
  "metadata": {
    "colab": {
      "name": "Traffic_Visualisation.ipynb",
      "provenance": [],
      "collapsed_sections": [],
      "authorship_tag": "ABX9TyO12v/DNpLUN6ZGrtMet0Sj",
      "include_colab_link": true
    },
    "kernelspec": {
      "name": "python3",
      "display_name": "Python 3"
    }
  },
  "cells": [
    {
      "cell_type": "markdown",
      "metadata": {
        "id": "view-in-github",
        "colab_type": "text"
      },
      "source": [
        "<a href=\"https://colab.research.google.com/github/WillBennett1987/Traffic-Visualisation/blob/master/Traffic_Visualisation.ipynb\" target=\"_parent\"><img src=\"https://colab.research.google.com/assets/colab-badge.svg\" alt=\"Open In Colab\"/></a>"
      ]
    },
    {
      "cell_type": "code",
      "metadata": {
        "id": "CFiyXFB3nGPG",
        "colab_type": "code",
        "colab": {
          "base_uri": "https://localhost:8080/",
          "height": 148
        },
        "outputId": "e0f3e51c-ca07-4ffd-8d1d-9bce9112fa2b"
      },
      "source": [
        "#william bennett 05/06/2020\n",
        "#followed this guide https://developer.tomtom.com/blog/build-different/where-open-chinese-restaurant-amsterdam-using-tomtom-maps-apis as a general framework and added other functionality\n",
        "\n",
        "import json #import libaries\n",
        "import requests\n",
        "import folium\n",
        "import json\n",
        "\n",
        "api_key = 'uAXSPOSyNATbBS1YjK5hrk8yIXB6oh7g'\n",
        "\n",
        "#gets a response from TomTom API\n",
        "def get_20mins_away(origin, time, api_key='uAXSPOSyNATbBS1YjK5hrk8yIXB6oh7g'):#[0] == lat, [1] == long\n",
        "    url = \"https://api.tomtom.com/routing/1/calculateReachableRange/\" + str(origin[0]) + \",\" + str(origin[1]) + \"/json?&timeBudgetInSec=\"+str(time)+\"&key=\"+api_key+\"\" #the get request to get the border data\n",
        "    data = requests.get(url)#sends the request\n",
        "    return data.json()#returns the decoded values\n",
        "\n",
        "#print(get_20mins_away([52.50931, 13.42936]))\n",
        "\n",
        "def dict_To_array(d):#turns the dictionary data into an array of tuples which are points of the border data.\n",
        "    print(d)\n",
        "    data = d['reachableRange']['boundary']#gets border data\n",
        "    arr = []\n",
        "    print(data)\n",
        "    for i in range(0,len(data)):\n",
        "        arr.append((data[i]['latitude'], data[i]['longitude']))\n",
        "    return arr\n",
        "\n",
        "def SearchCity(api_key,City,Country):#this run a function to send a request, this code was taken from a forum\n",
        "    \n",
        "    url = 'https://api.tomtom.com/search/2/search/'\n",
        "    url += City + ', ' + Country\n",
        "    url += '.json?limit=1&idxSet=Geo&key=' + api_key\n",
        "    \n",
        "    result = requests.get(url).json()\n",
        "    \n",
        "    GeoID = result['results'][0]['dataSources']['geometry']['id']\n",
        "    position = result['results'][0]['position']\n",
        "    \n",
        "    return GeoID,position\n",
        "\n",
        "def init_map(api_key=api_key, latitude=0, longitude=0, zoom=14, layer = \"basic\", style = \"main\"):#creates the map object\n",
        "    \"\"\"\n",
        "    The initialise_map function initializes a clean TomTom map\n",
        "    \"\"\"\n",
        "    \n",
        "    maps_url = \"http://{s}.api.tomtom.com/map/1/tile/\"+layer+\"/\"+style+\"/{z}/{x}/{y}.png?tileSize=512&key=\"\n",
        "    TomTom_map = folium.Map(\n",
        "        location = [latitude, longitude],  # on what coordinates [lat, lon] initialise the map\n",
        "        zoom_start = zoom,  # with what zoom level to initialize the map, from 0 to 22\n",
        "        tiles = str(maps_url + api_key),\n",
        "        attr = 'TomTom')\n",
        "    \n",
        "    return TomTom_map\n",
        "\n",
        "def main(lat, lon):\n",
        "        \n",
        "    time = 10\n",
        "    time2 = 20\n",
        "    sec = time * 60\n",
        "    sec2 = time2 * 60\n",
        "    dicts = get_20mins_away([lat, lon], sec)\n",
        "    dicts2 = get_20mins_away([lat, lon], sec2)\n",
        "    arr = dict_To_array(dicts)\n",
        "    arr2 = dict_To_array(dicts2)\n",
        "    print(arr)\n",
        "    print(arr2)\n",
        "\n",
        "    TomTom_map = init_map(api_key=api_key, latitude=lat, longitude=lon, zoom = 14, layer='hybrid')\n",
        "    #TomTom_map.vector_layers(arr)\n",
        "    #poly = make_GeoJSON(arr)\n",
        "    #add_layer(poly, '20mins', TomTom_map)\n",
        "\n",
        "    folium.vector_layers.Polygon(arr).add_to(TomTom_map)\n",
        "    folium.vector_layers.Polygon(arr2, color = 'red').add_to(TomTom_map)\n",
        "    folium.map.Marker([lat,lon]).add_to(TomTom_map)\n",
        "    return TomTom_map\n",
        "\n",
        "if __name__ == \"__main__\":\n",
        "    test_lat = 51.487127\n",
        "    test_lon = -0.111148\n",
        "\n",
        "    main(test_lat, test_lon)"
      ],
      "execution_count": 1,
      "outputs": [
        {
          "output_type": "stream",
          "text": [
            "{'formatVersion': '0.0.1', 'reachableRange': {'center': {'latitude': 51.48721, 'longitude': -0.11134}, 'boundary': [{'latitude': 51.50428, 'longitude': -0.11257}, {'latitude': 51.4997, 'longitude': -0.11424}, {'latitude': 51.50351, 'longitude': -0.11545}, {'latitude': 51.5017, 'longitude': -0.11704}, {'latitude': 51.50077, 'longitude': -0.12003}, {'latitude': 51.50082, 'longitude': -0.12184}, {'latitude': 51.50084, 'longitude': -0.12274}, {'latitude': 51.5002, 'longitude': -0.12719}, {'latitude': 51.49795, 'longitude': -0.1257}, {'latitude': 51.49905, 'longitude': -0.12982}, {'latitude': 51.4969, 'longitude': -0.13561}, {'latitude': 51.49376, 'longitude': -0.13718}, {'latitude': 51.49363, 'longitude': -0.13729}, {'latitude': 51.48554, 'longitude': -0.13556}, {'latitude': 51.48013, 'longitude': -0.13972}, {'latitude': 51.48001, 'longitude': -0.14004}, {'latitude': 51.477, 'longitude': -0.13007}, {'latitude': 51.47567, 'longitude': -0.13115}, {'latitude': 51.4714, 'longitude': -0.13043}, {'latitude': 51.46977, 'longitude': -0.12548}, {'latitude': 51.46576, 'longitude': -0.12636}, {'latitude': 51.46698, 'longitude': -0.12254}, {'latitude': 51.46624, 'longitude': -0.11688}, {'latitude': 51.46589, 'longitude': -0.11651}, {'latitude': 51.46763, 'longitude': -0.11272}, {'latitude': 51.47063, 'longitude': -0.11102}, {'latitude': 51.47062, 'longitude': -0.10731}, {'latitude': 51.46613, 'longitude': -0.10374}, {'latitude': 51.47042, 'longitude': -0.10312}, {'latitude': 51.46973, 'longitude': -0.10015}, {'latitude': 51.46864, 'longitude': -0.09881}, {'latitude': 51.47741, 'longitude': -0.10132}, {'latitude': 51.47525, 'longitude': -0.09614}, {'latitude': 51.47847, 'longitude': -0.09872}, {'latitude': 51.47888, 'longitude': -0.09505}, {'latitude': 51.48266, 'longitude': -0.09843}, {'latitude': 51.48245, 'longitude': -0.09451}, {'latitude': 51.48635, 'longitude': -0.09324}, {'latitude': 51.48813, 'longitude': -0.09404}, {'latitude': 51.49159, 'longitude': -0.0909}, {'latitude': 51.49196, 'longitude': -0.0924}, {'latitude': 51.49461, 'longitude': -0.09681}, {'latitude': 51.49485, 'longitude': -0.09802}, {'latitude': 51.4985, 'longitude': -0.09783}, {'latitude': 51.499, 'longitude': -0.10033}, {'latitude': 51.49884, 'longitude': -0.10274}, {'latitude': 51.50306, 'longitude': -0.10455}, {'latitude': 51.50351, 'longitude': -0.10573}, {'latitude': 51.50305, 'longitude': -0.10742}, {'latitude': 51.50342, 'longitude': -0.11133}]}}\n",
            "[{'latitude': 51.50428, 'longitude': -0.11257}, {'latitude': 51.4997, 'longitude': -0.11424}, {'latitude': 51.50351, 'longitude': -0.11545}, {'latitude': 51.5017, 'longitude': -0.11704}, {'latitude': 51.50077, 'longitude': -0.12003}, {'latitude': 51.50082, 'longitude': -0.12184}, {'latitude': 51.50084, 'longitude': -0.12274}, {'latitude': 51.5002, 'longitude': -0.12719}, {'latitude': 51.49795, 'longitude': -0.1257}, {'latitude': 51.49905, 'longitude': -0.12982}, {'latitude': 51.4969, 'longitude': -0.13561}, {'latitude': 51.49376, 'longitude': -0.13718}, {'latitude': 51.49363, 'longitude': -0.13729}, {'latitude': 51.48554, 'longitude': -0.13556}, {'latitude': 51.48013, 'longitude': -0.13972}, {'latitude': 51.48001, 'longitude': -0.14004}, {'latitude': 51.477, 'longitude': -0.13007}, {'latitude': 51.47567, 'longitude': -0.13115}, {'latitude': 51.4714, 'longitude': -0.13043}, {'latitude': 51.46977, 'longitude': -0.12548}, {'latitude': 51.46576, 'longitude': -0.12636}, {'latitude': 51.46698, 'longitude': -0.12254}, {'latitude': 51.46624, 'longitude': -0.11688}, {'latitude': 51.46589, 'longitude': -0.11651}, {'latitude': 51.46763, 'longitude': -0.11272}, {'latitude': 51.47063, 'longitude': -0.11102}, {'latitude': 51.47062, 'longitude': -0.10731}, {'latitude': 51.46613, 'longitude': -0.10374}, {'latitude': 51.47042, 'longitude': -0.10312}, {'latitude': 51.46973, 'longitude': -0.10015}, {'latitude': 51.46864, 'longitude': -0.09881}, {'latitude': 51.47741, 'longitude': -0.10132}, {'latitude': 51.47525, 'longitude': -0.09614}, {'latitude': 51.47847, 'longitude': -0.09872}, {'latitude': 51.47888, 'longitude': -0.09505}, {'latitude': 51.48266, 'longitude': -0.09843}, {'latitude': 51.48245, 'longitude': -0.09451}, {'latitude': 51.48635, 'longitude': -0.09324}, {'latitude': 51.48813, 'longitude': -0.09404}, {'latitude': 51.49159, 'longitude': -0.0909}, {'latitude': 51.49196, 'longitude': -0.0924}, {'latitude': 51.49461, 'longitude': -0.09681}, {'latitude': 51.49485, 'longitude': -0.09802}, {'latitude': 51.4985, 'longitude': -0.09783}, {'latitude': 51.499, 'longitude': -0.10033}, {'latitude': 51.49884, 'longitude': -0.10274}, {'latitude': 51.50306, 'longitude': -0.10455}, {'latitude': 51.50351, 'longitude': -0.10573}, {'latitude': 51.50305, 'longitude': -0.10742}, {'latitude': 51.50342, 'longitude': -0.11133}]\n",
            "{'formatVersion': '0.0.1', 'reachableRange': {'center': {'latitude': 51.48721, 'longitude': -0.11134}, 'boundary': [{'latitude': 51.5212, 'longitude': -0.11451}, {'latitude': 51.52091, 'longitude': -0.11574}, {'latitude': 51.52156, 'longitude': -0.12418}, {'latitude': 51.52372, 'longitude': -0.1268}, {'latitude': 51.51782, 'longitude': -0.12757}, {'latitude': 51.51161, 'longitude': -0.12767}, {'latitude': 51.5056, 'longitude': -0.12685}, {'latitude': 51.5013, 'longitude': -0.12985}, {'latitude': 51.50115, 'longitude': -0.13186}, {'latitude': 51.50754, 'longitude': -0.15375}, {'latitude': 51.50273, 'longitude': -0.15367}, {'latitude': 51.50226, 'longitude': -0.15795}, {'latitude': 51.49679, 'longitude': -0.16284}, {'latitude': 51.47867, 'longitude': -0.16839}, {'latitude': 51.47846, 'longitude': -0.16919}, {'latitude': 51.47257, 'longitude': -0.16367}, {'latitude': 51.46467, 'longitude': -0.16065}, {'latitude': 51.46067, 'longitude': -0.15643}, {'latitude': 51.45236, 'longitude': -0.14769}, {'latitude': 51.45297, 'longitude': -0.14318}, {'latitude': 51.44934, 'longitude': -0.13627}, {'latitude': 51.44315, 'longitude': -0.13293}, {'latitude': 51.44599, 'longitude': -0.12622}, {'latitude': 51.45512, 'longitude': -0.11943}, {'latitude': 51.4537, 'longitude': -0.11307}, {'latitude': 51.45568, 'longitude': -0.11079}, {'latitude': 51.45254, 'longitude': -0.10297}, {'latitude': 51.45284, 'longitude': -0.09855}, {'latitude': 51.45316, 'longitude': -0.09399}, {'latitude': 51.44978, 'longitude': -0.08737}, {'latitude': 51.44739, 'longitude': -0.08551}, {'latitude': 51.45351, 'longitude': -0.07753}, {'latitude': 51.4596, 'longitude': -0.07656}, {'latitude': 51.47407, 'longitude': -0.09139}, {'latitude': 51.47372, 'longitude': -0.08177}, {'latitude': 51.47358, 'longitude': -0.0725}, {'latitude': 51.47463, 'longitude': -0.06885}, {'latitude': 51.47958, 'longitude': -0.06264}, {'latitude': 51.49214, 'longitude': -0.06126}, {'latitude': 51.49427, 'longitude': -0.06515}, {'latitude': 51.49809, 'longitude': -0.07313}, {'latitude': 51.50361, 'longitude': -0.08042}, {'latitude': 51.50384, 'longitude': -0.08111}, {'latitude': 51.50631, 'longitude': -0.0884}, {'latitude': 51.50995, 'longitude': -0.09347}, {'latitude': 51.51228, 'longitude': -0.09441}, {'latitude': 51.51192, 'longitude': -0.09722}, {'latitude': 51.51387, 'longitude': -0.10438}, {'latitude': 51.5176, 'longitude': -0.10514}, {'latitude': 51.51653, 'longitude': -0.10816}]}}\n",
            "[{'latitude': 51.5212, 'longitude': -0.11451}, {'latitude': 51.52091, 'longitude': -0.11574}, {'latitude': 51.52156, 'longitude': -0.12418}, {'latitude': 51.52372, 'longitude': -0.1268}, {'latitude': 51.51782, 'longitude': -0.12757}, {'latitude': 51.51161, 'longitude': -0.12767}, {'latitude': 51.5056, 'longitude': -0.12685}, {'latitude': 51.5013, 'longitude': -0.12985}, {'latitude': 51.50115, 'longitude': -0.13186}, {'latitude': 51.50754, 'longitude': -0.15375}, {'latitude': 51.50273, 'longitude': -0.15367}, {'latitude': 51.50226, 'longitude': -0.15795}, {'latitude': 51.49679, 'longitude': -0.16284}, {'latitude': 51.47867, 'longitude': -0.16839}, {'latitude': 51.47846, 'longitude': -0.16919}, {'latitude': 51.47257, 'longitude': -0.16367}, {'latitude': 51.46467, 'longitude': -0.16065}, {'latitude': 51.46067, 'longitude': -0.15643}, {'latitude': 51.45236, 'longitude': -0.14769}, {'latitude': 51.45297, 'longitude': -0.14318}, {'latitude': 51.44934, 'longitude': -0.13627}, {'latitude': 51.44315, 'longitude': -0.13293}, {'latitude': 51.44599, 'longitude': -0.12622}, {'latitude': 51.45512, 'longitude': -0.11943}, {'latitude': 51.4537, 'longitude': -0.11307}, {'latitude': 51.45568, 'longitude': -0.11079}, {'latitude': 51.45254, 'longitude': -0.10297}, {'latitude': 51.45284, 'longitude': -0.09855}, {'latitude': 51.45316, 'longitude': -0.09399}, {'latitude': 51.44978, 'longitude': -0.08737}, {'latitude': 51.44739, 'longitude': -0.08551}, {'latitude': 51.45351, 'longitude': -0.07753}, {'latitude': 51.4596, 'longitude': -0.07656}, {'latitude': 51.47407, 'longitude': -0.09139}, {'latitude': 51.47372, 'longitude': -0.08177}, {'latitude': 51.47358, 'longitude': -0.0725}, {'latitude': 51.47463, 'longitude': -0.06885}, {'latitude': 51.47958, 'longitude': -0.06264}, {'latitude': 51.49214, 'longitude': -0.06126}, {'latitude': 51.49427, 'longitude': -0.06515}, {'latitude': 51.49809, 'longitude': -0.07313}, {'latitude': 51.50361, 'longitude': -0.08042}, {'latitude': 51.50384, 'longitude': -0.08111}, {'latitude': 51.50631, 'longitude': -0.0884}, {'latitude': 51.50995, 'longitude': -0.09347}, {'latitude': 51.51228, 'longitude': -0.09441}, {'latitude': 51.51192, 'longitude': -0.09722}, {'latitude': 51.51387, 'longitude': -0.10438}, {'latitude': 51.5176, 'longitude': -0.10514}, {'latitude': 51.51653, 'longitude': -0.10816}]\n",
            "[(51.50428, -0.11257), (51.4997, -0.11424), (51.50351, -0.11545), (51.5017, -0.11704), (51.50077, -0.12003), (51.50082, -0.12184), (51.50084, -0.12274), (51.5002, -0.12719), (51.49795, -0.1257), (51.49905, -0.12982), (51.4969, -0.13561), (51.49376, -0.13718), (51.49363, -0.13729), (51.48554, -0.13556), (51.48013, -0.13972), (51.48001, -0.14004), (51.477, -0.13007), (51.47567, -0.13115), (51.4714, -0.13043), (51.46977, -0.12548), (51.46576, -0.12636), (51.46698, -0.12254), (51.46624, -0.11688), (51.46589, -0.11651), (51.46763, -0.11272), (51.47063, -0.11102), (51.47062, -0.10731), (51.46613, -0.10374), (51.47042, -0.10312), (51.46973, -0.10015), (51.46864, -0.09881), (51.47741, -0.10132), (51.47525, -0.09614), (51.47847, -0.09872), (51.47888, -0.09505), (51.48266, -0.09843), (51.48245, -0.09451), (51.48635, -0.09324), (51.48813, -0.09404), (51.49159, -0.0909), (51.49196, -0.0924), (51.49461, -0.09681), (51.49485, -0.09802), (51.4985, -0.09783), (51.499, -0.10033), (51.49884, -0.10274), (51.50306, -0.10455), (51.50351, -0.10573), (51.50305, -0.10742), (51.50342, -0.11133)]\n",
            "[(51.5212, -0.11451), (51.52091, -0.11574), (51.52156, -0.12418), (51.52372, -0.1268), (51.51782, -0.12757), (51.51161, -0.12767), (51.5056, -0.12685), (51.5013, -0.12985), (51.50115, -0.13186), (51.50754, -0.15375), (51.50273, -0.15367), (51.50226, -0.15795), (51.49679, -0.16284), (51.47867, -0.16839), (51.47846, -0.16919), (51.47257, -0.16367), (51.46467, -0.16065), (51.46067, -0.15643), (51.45236, -0.14769), (51.45297, -0.14318), (51.44934, -0.13627), (51.44315, -0.13293), (51.44599, -0.12622), (51.45512, -0.11943), (51.4537, -0.11307), (51.45568, -0.11079), (51.45254, -0.10297), (51.45284, -0.09855), (51.45316, -0.09399), (51.44978, -0.08737), (51.44739, -0.08551), (51.45351, -0.07753), (51.4596, -0.07656), (51.47407, -0.09139), (51.47372, -0.08177), (51.47358, -0.0725), (51.47463, -0.06885), (51.47958, -0.06264), (51.49214, -0.06126), (51.49427, -0.06515), (51.49809, -0.07313), (51.50361, -0.08042), (51.50384, -0.08111), (51.50631, -0.0884), (51.50995, -0.09347), (51.51228, -0.09441), (51.51192, -0.09722), (51.51387, -0.10438), (51.5176, -0.10514), (51.51653, -0.10816)]\n"
          ],
          "name": "stdout"
        }
      ]
    }
  ]
}