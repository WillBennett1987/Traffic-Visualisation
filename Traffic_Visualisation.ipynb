{
  "nbformat": 4,
  "nbformat_minor": 0,
  "metadata": {
    "colab": {
      "name": "Traffic_Visualisation.ipynb",
      "provenance": [],
      "collapsed_sections": [],
      "authorship_tag": "ABX9TyMjIpseINIyYodIea/vD3J8",
      "include_colab_link": true
    },
    "kernelspec": {
      "name": "python3",
      "display_name": "Python 3"
    }
  },
  "cells": [
    {
      "cell_type": "markdown",
      "metadata": {
        "id": "view-in-github",
        "colab_type": "text"
      },
      "source": [
        "<a href=\"https://colab.research.google.com/github/WillBennett1987/Traffic-Visualisation/blob/master/Traffic_Visualisation.ipynb\" target=\"_parent\"><img src=\"https://colab.research.google.com/assets/colab-badge.svg\" alt=\"Open In Colab\"/></a>"
      ]
    },
    {
      "cell_type": "code",
      "metadata": {
        "id": "CFiyXFB3nGPG",
        "colab_type": "code",
        "colab": {
          "base_uri": "https://localhost:8080/",
          "height": 1000
        },
        "outputId": "bae26333-3516-46f5-e7d0-03a149aa13da"
      },
      "source": [
        "#william bennett 05/06/2020\n",
        "\n",
        "import json #import libaries\n",
        "import requests\n",
        "import folium\n",
        "import json\n",
        "\n",
        "#gets a response from TomTom API\n",
        "def get_20mins_away(origin, time, api_key):#[0] == lat, [1] == long\n",
        "    url = \"https://api.tomtom.com/routing/1/calculateReachableRange/\" + str(origin[0]) + \",\" + str(origin[1]) + \"/json?&timeBudgetInSec=\"+str(time)+\"&key=\"+api_key+\"\" #the get request to get the border data\n",
        "    data = requests.get(url)#sends the request\n",
        "    return data.json()#returns the decoded values\n",
        "\n",
        "#print(get_20mins_away([52.50931, 13.42936]))\n",
        "\n",
        "def dict_To_array(d):#turns the dictionary data into an array of tuples which are points of the border data.\n",
        "    print(d)\n",
        "    data = d['reachableRange']['boundary']#gets border data\n",
        "    arr = []\n",
        "    print(data)\n",
        "    for i in range(0,len(data)):\n",
        "        arr.append((data[i]['latitude'], data[i]['longitude']))\n",
        "    return arr\n",
        "\n",
        "def SearchCity(api_key,City,Country):#this run a function to send a request, this code was taken from a forum\n",
        "    \n",
        "    url = 'https://api.tomtom.com/search/2/search/'\n",
        "    url += City + ', ' + Country\n",
        "    url += '.json?limit=1&idxSet=Geo&key=' + api_key\n",
        "    \n",
        "    result = requests.get(url).json()\n",
        "    \n",
        "    GeoID = result['results'][0]['dataSources']['geometry']['id']\n",
        "    position = result['results'][0]['position']\n",
        "    \n",
        "    return GeoID,position\n",
        "\n",
        "def init_map(api_key=api_key, latitude=0, longitude=0, zoom=14, layer = \"basic\", style = \"main\"):#creates the map object\n",
        "    \"\"\"\n",
        "    The initialise_map function initializes a clean TomTom map\n",
        "    \"\"\"\n",
        "    \n",
        "    maps_url = \"http://{s}.api.tomtom.com/map/1/tile/\"+layer+\"/\"+style+\"/{z}/{x}/{y}.png?tileSize=512&key=\"\n",
        "    TomTom_map = folium.Map(\n",
        "        location = [latitude, longitude],  # on what coordinates [lat, lon] initialise the map\n",
        "        zoom_start = zoom,  # with what zoom level to initialize the map, from 0 to 22\n",
        "        tiles = str(maps_url + api_key),\n",
        "        attr = 'TomTom')\n",
        "    \n",
        "    return TomTom_map\n",
        "\n",
        "def main(lat, lon, api_key):\n",
        "        \n",
        "    time = 10\n",
        "    time2 = 20\n",
        "    sec = time * 60\n",
        "    sec2 = time2 * 60\n",
        "    dicts = get_20mins_away([lat, lon], sec, api_key)\n",
        "    dicts2 = get_20mins_away([lat, lon], sec2, api_key)\n",
        "    arr = dict_To_array(dicts)\n",
        "    arr2 = dict_To_array(dicts2)\n",
        "    print(arr)\n",
        "    print(arr2)\n",
        "\n",
        "    TomTom_map = init_map(api_key=api_key, latitude=lat, longitude=lon, zoom = 14, layer='hybrid')\n",
        "    #TomTom_map.vector_layers(arr)\n",
        "    #poly = make_GeoJSON(arr)\n",
        "    #add_layer(poly, '20mins', TomTom_map)\n",
        "\n",
        "    folium.vector_layers.Polygon(arr).add_to(TomTom_map)\n",
        "    folium.vector_layers.Polygon(arr2, color = 'red').add_to(TomTom_map)\n",
        "    folium.map.Marker([lat,lon]).add_to(TomTom_map)\n",
        "    return TomTom_map\n",
        "\n",
        "api_key = 'your_api_tomtom_key_here'\n",
        "test_lat = 51.487127\n",
        "test_lon = -0.111148\n",
        "\n",
        "main(test_lat, test_lon, api_key)"
      ],
      "execution_count": 5,
      "outputs": [
        {
          "output_type": "stream",
          "text": [
            "{'formatVersion': '0.0.1', 'reachableRange': {'center': {'latitude': 51.48721, 'longitude': -0.11134}, 'boundary': [{'latitude': 51.50426, 'longitude': -0.11248}, {'latitude': 51.4997, 'longitude': -0.11424}, {'latitude': 51.50351, 'longitude': -0.11545}, {'latitude': 51.5017, 'longitude': -0.11704}, {'latitude': 51.50077, 'longitude': -0.12003}, {'latitude': 51.50082, 'longitude': -0.12184}, {'latitude': 51.50084, 'longitude': -0.12275}, {'latitude': 51.50024, 'longitude': -0.12706}, {'latitude': 51.49795, 'longitude': -0.1257}, {'latitude': 51.49904, 'longitude': -0.12983}, {'latitude': 51.49689, 'longitude': -0.13561}, {'latitude': 51.49376, 'longitude': -0.13718}, {'latitude': 51.49364, 'longitude': -0.13727}, {'latitude': 51.48559, 'longitude': -0.13529}, {'latitude': 51.48013, 'longitude': -0.13972}, {'latitude': 51.47987, 'longitude': -0.14061}, {'latitude': 51.477, 'longitude': -0.13007}, {'latitude': 51.47571, 'longitude': -0.13111}, {'latitude': 51.47152, 'longitude': -0.13021}, {'latitude': 51.46924, 'longitude': -0.1262}, {'latitude': 51.47089, 'longitude': -0.12103}, {'latitude': 51.46906, 'longitude': -0.11947}, {'latitude': 51.4751, 'longitude': -0.11596}, {'latitude': 51.47626, 'longitude': -0.11409}, {'latitude': 51.46681, 'longitude': -0.11307}, {'latitude': 51.47063, 'longitude': -0.11102}, {'latitude': 51.47062, 'longitude': -0.10731}, {'latitude': 51.46617, 'longitude': -0.1038}, {'latitude': 51.47042, 'longitude': -0.10312}, {'latitude': 51.46973, 'longitude': -0.10015}, {'latitude': 51.46867, 'longitude': -0.09886}, {'latitude': 51.47741, 'longitude': -0.10132}, {'latitude': 51.47469, 'longitude': -0.09477}, {'latitude': 51.47434, 'longitude': -0.09395}, {'latitude': 51.47641, 'longitude': -0.09383}, {'latitude': 51.48006, 'longitude': -0.09108}, {'latitude': 51.48046, 'longitude': -0.09034}, {'latitude': 51.48635, 'longitude': -0.09324}, {'latitude': 51.48813, 'longitude': -0.09404}, {'latitude': 51.49188, 'longitude': -0.09213}, {'latitude': 51.49196, 'longitude': -0.0924}, {'latitude': 51.49291, 'longitude': -0.09874}, {'latitude': 51.49481, 'longitude': -0.10085}, {'latitude': 51.49567, 'longitude': -0.10092}, {'latitude': 51.499, 'longitude': -0.10027}, {'latitude': 51.49884, 'longitude': -0.10274}, {'latitude': 51.5031, 'longitude': -0.10455}, {'latitude': 51.50349, 'longitude': -0.10581}, {'latitude': 51.50305, 'longitude': -0.10742}, {'latitude': 51.50342, 'longitude': -0.11133}]}}\n",
            "[{'latitude': 51.50426, 'longitude': -0.11248}, {'latitude': 51.4997, 'longitude': -0.11424}, {'latitude': 51.50351, 'longitude': -0.11545}, {'latitude': 51.5017, 'longitude': -0.11704}, {'latitude': 51.50077, 'longitude': -0.12003}, {'latitude': 51.50082, 'longitude': -0.12184}, {'latitude': 51.50084, 'longitude': -0.12275}, {'latitude': 51.50024, 'longitude': -0.12706}, {'latitude': 51.49795, 'longitude': -0.1257}, {'latitude': 51.49904, 'longitude': -0.12983}, {'latitude': 51.49689, 'longitude': -0.13561}, {'latitude': 51.49376, 'longitude': -0.13718}, {'latitude': 51.49364, 'longitude': -0.13727}, {'latitude': 51.48559, 'longitude': -0.13529}, {'latitude': 51.48013, 'longitude': -0.13972}, {'latitude': 51.47987, 'longitude': -0.14061}, {'latitude': 51.477, 'longitude': -0.13007}, {'latitude': 51.47571, 'longitude': -0.13111}, {'latitude': 51.47152, 'longitude': -0.13021}, {'latitude': 51.46924, 'longitude': -0.1262}, {'latitude': 51.47089, 'longitude': -0.12103}, {'latitude': 51.46906, 'longitude': -0.11947}, {'latitude': 51.4751, 'longitude': -0.11596}, {'latitude': 51.47626, 'longitude': -0.11409}, {'latitude': 51.46681, 'longitude': -0.11307}, {'latitude': 51.47063, 'longitude': -0.11102}, {'latitude': 51.47062, 'longitude': -0.10731}, {'latitude': 51.46617, 'longitude': -0.1038}, {'latitude': 51.47042, 'longitude': -0.10312}, {'latitude': 51.46973, 'longitude': -0.10015}, {'latitude': 51.46867, 'longitude': -0.09886}, {'latitude': 51.47741, 'longitude': -0.10132}, {'latitude': 51.47469, 'longitude': -0.09477}, {'latitude': 51.47434, 'longitude': -0.09395}, {'latitude': 51.47641, 'longitude': -0.09383}, {'latitude': 51.48006, 'longitude': -0.09108}, {'latitude': 51.48046, 'longitude': -0.09034}, {'latitude': 51.48635, 'longitude': -0.09324}, {'latitude': 51.48813, 'longitude': -0.09404}, {'latitude': 51.49188, 'longitude': -0.09213}, {'latitude': 51.49196, 'longitude': -0.0924}, {'latitude': 51.49291, 'longitude': -0.09874}, {'latitude': 51.49481, 'longitude': -0.10085}, {'latitude': 51.49567, 'longitude': -0.10092}, {'latitude': 51.499, 'longitude': -0.10027}, {'latitude': 51.49884, 'longitude': -0.10274}, {'latitude': 51.5031, 'longitude': -0.10455}, {'latitude': 51.50349, 'longitude': -0.10581}, {'latitude': 51.50305, 'longitude': -0.10742}, {'latitude': 51.50342, 'longitude': -0.11133}]\n",
            "{'formatVersion': '0.0.1', 'reachableRange': {'center': {'latitude': 51.48721, 'longitude': -0.11134}, 'boundary': [{'latitude': 51.52115, 'longitude': -0.11473}, {'latitude': 51.52091, 'longitude': -0.11574}, {'latitude': 51.52156, 'longitude': -0.12418}, {'latitude': 51.52363, 'longitude': -0.1267}, {'latitude': 51.51783, 'longitude': -0.12751}, {'latitude': 51.51205, 'longitude': -0.12846}, {'latitude': 51.5099, 'longitude': -0.13492}, {'latitude': 51.50815, 'longitude': -0.13753}, {'latitude': 51.5069, 'longitude': -0.13968}, {'latitude': 51.50803, 'longitude': -0.15434}, {'latitude': 51.50273, 'longitude': -0.15367}, {'latitude': 51.50227, 'longitude': -0.15762}, {'latitude': 51.4844, 'longitude': -0.16796}, {'latitude': 51.47858, 'longitude': -0.17016}, {'latitude': 51.47618, 'longitude': -0.17159}, {'latitude': 51.47187, 'longitude': -0.16654}, {'latitude': 51.46469, 'longitude': -0.16049}, {'latitude': 51.46082, 'longitude': -0.15642}, {'latitude': 51.45257, 'longitude': -0.1476}, {'latitude': 51.45297, 'longitude': -0.14318}, {'latitude': 51.45603, 'longitude': -0.12919}, {'latitude': 51.45581, 'longitude': -0.12922}, {'latitude': 51.45976, 'longitude': -0.1222}, {'latitude': 51.45561, 'longitude': -0.1191}, {'latitude': 51.45438, 'longitude': -0.11329}, {'latitude': 51.45623, 'longitude': -0.11115}, {'latitude': 51.45254, 'longitude': -0.10297}, {'latitude': 51.45284, 'longitude': -0.09855}, {'latitude': 51.45316, 'longitude': -0.09399}, {'latitude': 51.44978, 'longitude': -0.08737}, {'latitude': 51.44785, 'longitude': -0.08553}, {'latitude': 51.45345, 'longitude': -0.07796}, {'latitude': 51.45948, 'longitude': -0.07727}, {'latitude': 51.46154, 'longitude': -0.07642}, {'latitude': 51.47372, 'longitude': -0.08177}, {'latitude': 51.47358, 'longitude': -0.0725}, {'latitude': 51.47402, 'longitude': -0.06717}, {'latitude': 51.48008, 'longitude': -0.05816}, {'latitude': 51.49214, 'longitude': -0.06126}, {'latitude': 51.4944, 'longitude': -0.06522}, {'latitude': 51.49814, 'longitude': -0.06784}, {'latitude': 51.50362, 'longitude': -0.08043}, {'latitude': 51.50384, 'longitude': -0.08111}, {'latitude': 51.50631, 'longitude': -0.0884}, {'latitude': 51.5103, 'longitude': -0.09329}, {'latitude': 51.51229, 'longitude': -0.0944}, {'latitude': 51.51192, 'longitude': -0.09722}, {'latitude': 51.51387, 'longitude': -0.10438}, {'latitude': 51.51762, 'longitude': -0.10514}, {'latitude': 51.51637, 'longitude': -0.10837}]}}\n",
            "[{'latitude': 51.52115, 'longitude': -0.11473}, {'latitude': 51.52091, 'longitude': -0.11574}, {'latitude': 51.52156, 'longitude': -0.12418}, {'latitude': 51.52363, 'longitude': -0.1267}, {'latitude': 51.51783, 'longitude': -0.12751}, {'latitude': 51.51205, 'longitude': -0.12846}, {'latitude': 51.5099, 'longitude': -0.13492}, {'latitude': 51.50815, 'longitude': -0.13753}, {'latitude': 51.5069, 'longitude': -0.13968}, {'latitude': 51.50803, 'longitude': -0.15434}, {'latitude': 51.50273, 'longitude': -0.15367}, {'latitude': 51.50227, 'longitude': -0.15762}, {'latitude': 51.4844, 'longitude': -0.16796}, {'latitude': 51.47858, 'longitude': -0.17016}, {'latitude': 51.47618, 'longitude': -0.17159}, {'latitude': 51.47187, 'longitude': -0.16654}, {'latitude': 51.46469, 'longitude': -0.16049}, {'latitude': 51.46082, 'longitude': -0.15642}, {'latitude': 51.45257, 'longitude': -0.1476}, {'latitude': 51.45297, 'longitude': -0.14318}, {'latitude': 51.45603, 'longitude': -0.12919}, {'latitude': 51.45581, 'longitude': -0.12922}, {'latitude': 51.45976, 'longitude': -0.1222}, {'latitude': 51.45561, 'longitude': -0.1191}, {'latitude': 51.45438, 'longitude': -0.11329}, {'latitude': 51.45623, 'longitude': -0.11115}, {'latitude': 51.45254, 'longitude': -0.10297}, {'latitude': 51.45284, 'longitude': -0.09855}, {'latitude': 51.45316, 'longitude': -0.09399}, {'latitude': 51.44978, 'longitude': -0.08737}, {'latitude': 51.44785, 'longitude': -0.08553}, {'latitude': 51.45345, 'longitude': -0.07796}, {'latitude': 51.45948, 'longitude': -0.07727}, {'latitude': 51.46154, 'longitude': -0.07642}, {'latitude': 51.47372, 'longitude': -0.08177}, {'latitude': 51.47358, 'longitude': -0.0725}, {'latitude': 51.47402, 'longitude': -0.06717}, {'latitude': 51.48008, 'longitude': -0.05816}, {'latitude': 51.49214, 'longitude': -0.06126}, {'latitude': 51.4944, 'longitude': -0.06522}, {'latitude': 51.49814, 'longitude': -0.06784}, {'latitude': 51.50362, 'longitude': -0.08043}, {'latitude': 51.50384, 'longitude': -0.08111}, {'latitude': 51.50631, 'longitude': -0.0884}, {'latitude': 51.5103, 'longitude': -0.09329}, {'latitude': 51.51229, 'longitude': -0.0944}, {'latitude': 51.51192, 'longitude': -0.09722}, {'latitude': 51.51387, 'longitude': -0.10438}, {'latitude': 51.51762, 'longitude': -0.10514}, {'latitude': 51.51637, 'longitude': -0.10837}]\n",
            "[(51.50426, -0.11248), (51.4997, -0.11424), (51.50351, -0.11545), (51.5017, -0.11704), (51.50077, -0.12003), (51.50082, -0.12184), (51.50084, -0.12275), (51.50024, -0.12706), (51.49795, -0.1257), (51.49904, -0.12983), (51.49689, -0.13561), (51.49376, -0.13718), (51.49364, -0.13727), (51.48559, -0.13529), (51.48013, -0.13972), (51.47987, -0.14061), (51.477, -0.13007), (51.47571, -0.13111), (51.47152, -0.13021), (51.46924, -0.1262), (51.47089, -0.12103), (51.46906, -0.11947), (51.4751, -0.11596), (51.47626, -0.11409), (51.46681, -0.11307), (51.47063, -0.11102), (51.47062, -0.10731), (51.46617, -0.1038), (51.47042, -0.10312), (51.46973, -0.10015), (51.46867, -0.09886), (51.47741, -0.10132), (51.47469, -0.09477), (51.47434, -0.09395), (51.47641, -0.09383), (51.48006, -0.09108), (51.48046, -0.09034), (51.48635, -0.09324), (51.48813, -0.09404), (51.49188, -0.09213), (51.49196, -0.0924), (51.49291, -0.09874), (51.49481, -0.10085), (51.49567, -0.10092), (51.499, -0.10027), (51.49884, -0.10274), (51.5031, -0.10455), (51.50349, -0.10581), (51.50305, -0.10742), (51.50342, -0.11133)]\n",
            "[(51.52115, -0.11473), (51.52091, -0.11574), (51.52156, -0.12418), (51.52363, -0.1267), (51.51783, -0.12751), (51.51205, -0.12846), (51.5099, -0.13492), (51.50815, -0.13753), (51.5069, -0.13968), (51.50803, -0.15434), (51.50273, -0.15367), (51.50227, -0.15762), (51.4844, -0.16796), (51.47858, -0.17016), (51.47618, -0.17159), (51.47187, -0.16654), (51.46469, -0.16049), (51.46082, -0.15642), (51.45257, -0.1476), (51.45297, -0.14318), (51.45603, -0.12919), (51.45581, -0.12922), (51.45976, -0.1222), (51.45561, -0.1191), (51.45438, -0.11329), (51.45623, -0.11115), (51.45254, -0.10297), (51.45284, -0.09855), (51.45316, -0.09399), (51.44978, -0.08737), (51.44785, -0.08553), (51.45345, -0.07796), (51.45948, -0.07727), (51.46154, -0.07642), (51.47372, -0.08177), (51.47358, -0.0725), (51.47402, -0.06717), (51.48008, -0.05816), (51.49214, -0.06126), (51.4944, -0.06522), (51.49814, -0.06784), (51.50362, -0.08043), (51.50384, -0.08111), (51.50631, -0.0884), (51.5103, -0.09329), (51.51229, -0.0944), (51.51192, -0.09722), (51.51387, -0.10438), (51.51762, -0.10514), (51.51637, -0.10837)]\n"
          ],
          "name": "stdout"
        },
        {
          "output_type": "execute_result",
          "data": {
            "text/html": [
              "<div style=\"width:100%;\"><div style=\"position:relative;width:100%;height:0;padding-bottom:60%;\"><span style=\"color:#565656\">Make this Notebook Trusted to load map: File -> Trust Notebook</span><iframe src=\"about:blank\" style=\"position:absolute;width:100%;height:100%;left:0;top:0;border:none !important;\" data-html=PCFET0NUWVBFIGh0bWw+CjxoZWFkPiAgICAKICAgIDxtZXRhIGh0dHAtZXF1aXY9ImNvbnRlbnQtdHlwZSIgY29udGVudD0idGV4dC9odG1sOyBjaGFyc2V0PVVURi04IiAvPgogICAgPHNjcmlwdD5MX1BSRUZFUl9DQU5WQVM9ZmFsc2U7IExfTk9fVE9VQ0g9ZmFsc2U7IExfRElTQUJMRV8zRD1mYWxzZTs8L3NjcmlwdD4KICAgIDxzY3JpcHQgc3JjPSJodHRwczovL2Nkbi5qc2RlbGl2ci5uZXQvbnBtL2xlYWZsZXRAMS40LjAvZGlzdC9sZWFmbGV0LmpzIj48L3NjcmlwdD4KICAgIDxzY3JpcHQgc3JjPSJodHRwczovL2NvZGUuanF1ZXJ5LmNvbS9qcXVlcnktMS4xMi40Lm1pbi5qcyI+PC9zY3JpcHQ+CiAgICA8c2NyaXB0IHNyYz0iaHR0cHM6Ly9tYXhjZG4uYm9vdHN0cmFwY2RuLmNvbS9ib290c3RyYXAvMy4yLjAvanMvYm9vdHN0cmFwLm1pbi5qcyI+PC9zY3JpcHQ+CiAgICA8c2NyaXB0IHNyYz0iaHR0cHM6Ly9jZG5qcy5jbG91ZGZsYXJlLmNvbS9hamF4L2xpYnMvTGVhZmxldC5hd2Vzb21lLW1hcmtlcnMvMi4wLjIvbGVhZmxldC5hd2Vzb21lLW1hcmtlcnMuanMiPjwvc2NyaXB0PgogICAgPGxpbmsgcmVsPSJzdHlsZXNoZWV0IiBocmVmPSJodHRwczovL2Nkbi5qc2RlbGl2ci5uZXQvbnBtL2xlYWZsZXRAMS40LjAvZGlzdC9sZWFmbGV0LmNzcyIvPgogICAgPGxpbmsgcmVsPSJzdHlsZXNoZWV0IiBocmVmPSJodHRwczovL21heGNkbi5ib290c3RyYXBjZG4uY29tL2Jvb3RzdHJhcC8zLjIuMC9jc3MvYm9vdHN0cmFwLm1pbi5jc3MiLz4KICAgIDxsaW5rIHJlbD0ic3R5bGVzaGVldCIgaHJlZj0iaHR0cHM6Ly9tYXhjZG4uYm9vdHN0cmFwY2RuLmNvbS9ib290c3RyYXAvMy4yLjAvY3NzL2Jvb3RzdHJhcC10aGVtZS5taW4uY3NzIi8+CiAgICA8bGluayByZWw9InN0eWxlc2hlZXQiIGhyZWY9Imh0dHBzOi8vbWF4Y2RuLmJvb3RzdHJhcGNkbi5jb20vZm9udC1hd2Vzb21lLzQuNi4zL2Nzcy9mb250LWF3ZXNvbWUubWluLmNzcyIvPgogICAgPGxpbmsgcmVsPSJzdHlsZXNoZWV0IiBocmVmPSJodHRwczovL2NkbmpzLmNsb3VkZmxhcmUuY29tL2FqYXgvbGlicy9MZWFmbGV0LmF3ZXNvbWUtbWFya2Vycy8yLjAuMi9sZWFmbGV0LmF3ZXNvbWUtbWFya2Vycy5jc3MiLz4KICAgIDxsaW5rIHJlbD0ic3R5bGVzaGVldCIgaHJlZj0iaHR0cHM6Ly9yYXdjZG4uZ2l0aGFjay5jb20vcHl0aG9uLXZpc3VhbGl6YXRpb24vZm9saXVtL21hc3Rlci9mb2xpdW0vdGVtcGxhdGVzL2xlYWZsZXQuYXdlc29tZS5yb3RhdGUuY3NzIi8+CiAgICA8c3R5bGU+aHRtbCwgYm9keSB7d2lkdGg6IDEwMCU7aGVpZ2h0OiAxMDAlO21hcmdpbjogMDtwYWRkaW5nOiAwO308L3N0eWxlPgogICAgPHN0eWxlPiNtYXAge3Bvc2l0aW9uOmFic29sdXRlO3RvcDowO2JvdHRvbTowO3JpZ2h0OjA7bGVmdDowO308L3N0eWxlPgogICAgCiAgICA8bWV0YSBuYW1lPSJ2aWV3cG9ydCIgY29udGVudD0id2lkdGg9ZGV2aWNlLXdpZHRoLAogICAgICAgIGluaXRpYWwtc2NhbGU9MS4wLCBtYXhpbXVtLXNjYWxlPTEuMCwgdXNlci1zY2FsYWJsZT1ubyIgLz4KICAgIDxzdHlsZT4jbWFwXzhmNGRhNWRkNTdiZTQwMzQ5ODg0MTczZWM1OTNhYzFkIHsKICAgICAgICBwb3NpdGlvbjogcmVsYXRpdmU7CiAgICAgICAgd2lkdGg6IDEwMC4wJTsKICAgICAgICBoZWlnaHQ6IDEwMC4wJTsKICAgICAgICBsZWZ0OiAwLjAlOwogICAgICAgIHRvcDogMC4wJTsKICAgICAgICB9CiAgICA8L3N0eWxlPgo8L2hlYWQ+Cjxib2R5PiAgICAKICAgIAogICAgPGRpdiBjbGFzcz0iZm9saXVtLW1hcCIgaWQ9Im1hcF84ZjRkYTVkZDU3YmU0MDM0OTg4NDE3M2VjNTkzYWMxZCIgPjwvZGl2Pgo8L2JvZHk+CjxzY3JpcHQ+ICAgIAogICAgCiAgICAKICAgICAgICB2YXIgYm91bmRzID0gbnVsbDsKICAgIAoKICAgIHZhciBtYXBfOGY0ZGE1ZGQ1N2JlNDAzNDk4ODQxNzNlYzU5M2FjMWQgPSBMLm1hcCgKICAgICAgICAnbWFwXzhmNGRhNWRkNTdiZTQwMzQ5ODg0MTczZWM1OTNhYzFkJywgewogICAgICAgIGNlbnRlcjogWzUxLjQ4NzEyNywgLTAuMTExMTQ4XSwKICAgICAgICB6b29tOiAxNCwKICAgICAgICBtYXhCb3VuZHM6IGJvdW5kcywKICAgICAgICBsYXllcnM6IFtdLAogICAgICAgIHdvcmxkQ29weUp1bXA6IGZhbHNlLAogICAgICAgIGNyczogTC5DUlMuRVBTRzM4NTcsCiAgICAgICAgem9vbUNvbnRyb2w6IHRydWUsCiAgICAgICAgfSk7CgoKICAgIAogICAgdmFyIHRpbGVfbGF5ZXJfODRmZWYyY2YxZjM5NDg5M2IwYTdhZGU2MTM4MmU3NmIgPSBMLnRpbGVMYXllcigKICAgICAgICAnaHR0cDovL3tzfS5hcGkudG9tdG9tLmNvbS9tYXAvMS90aWxlL2h5YnJpZC9tYWluL3t6fS97eH0ve3l9LnBuZz90aWxlU2l6ZT01MTIma2V5PXVBWFNQT1N5TkFUYkJTMVlqSzVocms4eUlYQjZvaDdnJywKICAgICAgICB7CiAgICAgICAgImF0dHJpYnV0aW9uIjogIlRvbVRvbSIsCiAgICAgICAgImRldGVjdFJldGluYSI6IGZhbHNlLAogICAgICAgICJtYXhOYXRpdmVab29tIjogMTgsCiAgICAgICAgIm1heFpvb20iOiAxOCwKICAgICAgICAibWluWm9vbSI6IDAsCiAgICAgICAgIm5vV3JhcCI6IGZhbHNlLAogICAgICAgICJvcGFjaXR5IjogMSwKICAgICAgICAic3ViZG9tYWlucyI6ICJhYmMiLAogICAgICAgICJ0bXMiOiBmYWxzZQp9KS5hZGRUbyhtYXBfOGY0ZGE1ZGQ1N2JlNDAzNDk4ODQxNzNlYzU5M2FjMWQpOwogICAgCgogICAgICAgICAgICB2YXIgcG9seWdvbl81NjA2MDMwNWM5OGI0YTZmODcyNGRlYjljNzU5ODk2MyA9IEwucG9seWdvbigKICAgICAgICAgICAgICAgIFtbNTEuNTA0MjYsIC0wLjExMjQ4XSwgWzUxLjQ5OTcsIC0wLjExNDI0XSwgWzUxLjUwMzUxLCAtMC4xMTU0NV0sIFs1MS41MDE3LCAtMC4xMTcwNF0sIFs1MS41MDA3NywgLTAuMTIwMDNdLCBbNTEuNTAwODIsIC0wLjEyMTg0XSwgWzUxLjUwMDg0LCAtMC4xMjI3NV0sIFs1MS41MDAyNCwgLTAuMTI3MDZdLCBbNTEuNDk3OTUsIC0wLjEyNTddLCBbNTEuNDk5MDQsIC0wLjEyOTgzXSwgWzUxLjQ5Njg5LCAtMC4xMzU2MV0sIFs1MS40OTM3NiwgLTAuMTM3MThdLCBbNTEuNDkzNjQsIC0wLjEzNzI3XSwgWzUxLjQ4NTU5LCAtMC4xMzUyOV0sIFs1MS40ODAxMywgLTAuMTM5NzJdLCBbNTEuNDc5ODcsIC0wLjE0MDYxXSwgWzUxLjQ3NywgLTAuMTMwMDddLCBbNTEuNDc1NzEsIC0wLjEzMTExXSwgWzUxLjQ3MTUyLCAtMC4xMzAyMV0sIFs1MS40NjkyNCwgLTAuMTI2Ml0sIFs1MS40NzA4OSwgLTAuMTIxMDNdLCBbNTEuNDY5MDYsIC0wLjExOTQ3XSwgWzUxLjQ3NTEsIC0wLjExNTk2XSwgWzUxLjQ3NjI2LCAtMC4xMTQwOV0sIFs1MS40NjY4MSwgLTAuMTEzMDddLCBbNTEuNDcwNjMsIC0wLjExMTAyXSwgWzUxLjQ3MDYyLCAtMC4xMDczMV0sIFs1MS40NjYxNywgLTAuMTAzOF0sIFs1MS40NzA0MiwgLTAuMTAzMTJdLCBbNTEuNDY5NzMsIC0wLjEwMDE1XSwgWzUxLjQ2ODY3LCAtMC4wOTg4Nl0sIFs1MS40Nzc0MSwgLTAuMTAxMzJdLCBbNTEuNDc0NjksIC0wLjA5NDc3XSwgWzUxLjQ3NDM0LCAtMC4wOTM5NV0sIFs1MS40NzY0MSwgLTAuMDkzODNdLCBbNTEuNDgwMDYsIC0wLjA5MTA4XSwgWzUxLjQ4MDQ2LCAtMC4wOTAzNF0sIFs1MS40ODYzNSwgLTAuMDkzMjRdLCBbNTEuNDg4MTMsIC0wLjA5NDA0XSwgWzUxLjQ5MTg4LCAtMC4wOTIxM10sIFs1MS40OTE5NiwgLTAuMDkyNF0sIFs1MS40OTI5MSwgLTAuMDk4NzRdLCBbNTEuNDk0ODEsIC0wLjEwMDg1XSwgWzUxLjQ5NTY3LCAtMC4xMDA5Ml0sIFs1MS40OTksIC0wLjEwMDI3XSwgWzUxLjQ5ODg0LCAtMC4xMDI3NF0sIFs1MS41MDMxLCAtMC4xMDQ1NV0sIFs1MS41MDM0OSwgLTAuMTA1ODFdLCBbNTEuNTAzMDUsIC0wLjEwNzQyXSwgWzUxLjUwMzQyLCAtMC4xMTEzM11dLAogICAgICAgICAgICAgICAgewogICJidWJibGluZ01vdXNlRXZlbnRzIjogdHJ1ZSwKICAiY29sb3IiOiAiIzMzODhmZiIsCiAgImRhc2hBcnJheSI6IG51bGwsCiAgImRhc2hPZmZzZXQiOiBudWxsLAogICJmaWxsIjogZmFsc2UsCiAgImZpbGxDb2xvciI6ICIjMzM4OGZmIiwKICAiZmlsbE9wYWNpdHkiOiAwLjIsCiAgImZpbGxSdWxlIjogImV2ZW5vZGQiLAogICJsaW5lQ2FwIjogInJvdW5kIiwKICAibGluZUpvaW4iOiAicm91bmQiLAogICJub0NsaXAiOiBmYWxzZSwKICAib3BhY2l0eSI6IDEuMCwKICAic21vb3RoRmFjdG9yIjogMS4wLAogICJzdHJva2UiOiB0cnVlLAogICJ3ZWlnaHQiOiAzCn0KICAgICAgICAgICAgICAgICkKICAgICAgICAgICAgICAgIC5hZGRUbyhtYXBfOGY0ZGE1ZGQ1N2JlNDAzNDk4ODQxNzNlYzU5M2FjMWQpOwogICAgICAgICAgICAKICAgIAoKICAgICAgICAgICAgdmFyIHBvbHlnb25fMDk1NTgzNGEzMDFjNDNiODg0MTYzNzMyOTMxZTBiMmMgPSBMLnBvbHlnb24oCiAgICAgICAgICAgICAgICBbWzUxLjUyMTE1LCAtMC4xMTQ3M10sIFs1MS41MjA5MSwgLTAuMTE1NzRdLCBbNTEuNTIxNTYsIC0wLjEyNDE4XSwgWzUxLjUyMzYzLCAtMC4xMjY3XSwgWzUxLjUxNzgzLCAtMC4xMjc1MV0sIFs1MS41MTIwNSwgLTAuMTI4NDZdLCBbNTEuNTA5OSwgLTAuMTM0OTJdLCBbNTEuNTA4MTUsIC0wLjEzNzUzXSwgWzUxLjUwNjksIC0wLjEzOTY4XSwgWzUxLjUwODAzLCAtMC4xNTQzNF0sIFs1MS41MDI3MywgLTAuMTUzNjddLCBbNTEuNTAyMjcsIC0wLjE1NzYyXSwgWzUxLjQ4NDQsIC0wLjE2Nzk2XSwgWzUxLjQ3ODU4LCAtMC4xNzAxNl0sIFs1MS40NzYxOCwgLTAuMTcxNTldLCBbNTEuNDcxODcsIC0wLjE2NjU0XSwgWzUxLjQ2NDY5LCAtMC4xNjA0OV0sIFs1MS40NjA4MiwgLTAuMTU2NDJdLCBbNTEuNDUyNTcsIC0wLjE0NzZdLCBbNTEuNDUyOTcsIC0wLjE0MzE4XSwgWzUxLjQ1NjAzLCAtMC4xMjkxOV0sIFs1MS40NTU4MSwgLTAuMTI5MjJdLCBbNTEuNDU5NzYsIC0wLjEyMjJdLCBbNTEuNDU1NjEsIC0wLjExOTFdLCBbNTEuNDU0MzgsIC0wLjExMzI5XSwgWzUxLjQ1NjIzLCAtMC4xMTExNV0sIFs1MS40NTI1NCwgLTAuMTAyOTddLCBbNTEuNDUyODQsIC0wLjA5ODU1XSwgWzUxLjQ1MzE2LCAtMC4wOTM5OV0sIFs1MS40NDk3OCwgLTAuMDg3MzddLCBbNTEuNDQ3ODUsIC0wLjA4NTUzXSwgWzUxLjQ1MzQ1LCAtMC4wNzc5Nl0sIFs1MS40NTk0OCwgLTAuMDc3MjddLCBbNTEuNDYxNTQsIC0wLjA3NjQyXSwgWzUxLjQ3MzcyLCAtMC4wODE3N10sIFs1MS40NzM1OCwgLTAuMDcyNV0sIFs1MS40NzQwMiwgLTAuMDY3MTddLCBbNTEuNDgwMDgsIC0wLjA1ODE2XSwgWzUxLjQ5MjE0LCAtMC4wNjEyNl0sIFs1MS40OTQ0LCAtMC4wNjUyMl0sIFs1MS40OTgxNCwgLTAuMDY3ODRdLCBbNTEuNTAzNjIsIC0wLjA4MDQzXSwgWzUxLjUwMzg0LCAtMC4wODExMV0sIFs1MS41MDYzMSwgLTAuMDg4NF0sIFs1MS41MTAzLCAtMC4wOTMyOV0sIFs1MS41MTIyOSwgLTAuMDk0NF0sIFs1MS41MTE5MiwgLTAuMDk3MjJdLCBbNTEuNTEzODcsIC0wLjEwNDM4XSwgWzUxLjUxNzYyLCAtMC4xMDUxNF0sIFs1MS41MTYzNywgLTAuMTA4MzddXSwKICAgICAgICAgICAgICAgIHsKICAiYnViYmxpbmdNb3VzZUV2ZW50cyI6IHRydWUsCiAgImNvbG9yIjogInJlZCIsCiAgImRhc2hBcnJheSI6IG51bGwsCiAgImRhc2hPZmZzZXQiOiBudWxsLAogICJmaWxsIjogZmFsc2UsCiAgImZpbGxDb2xvciI6ICJyZWQiLAogICJmaWxsT3BhY2l0eSI6IDAuMiwKICAiZmlsbFJ1bGUiOiAiZXZlbm9kZCIsCiAgImxpbmVDYXAiOiAicm91bmQiLAogICJsaW5lSm9pbiI6ICJyb3VuZCIsCiAgIm5vQ2xpcCI6IGZhbHNlLAogICJvcGFjaXR5IjogMS4wLAogICJzbW9vdGhGYWN0b3IiOiAxLjAsCiAgInN0cm9rZSI6IHRydWUsCiAgIndlaWdodCI6IDMKfQogICAgICAgICAgICAgICAgKQogICAgICAgICAgICAgICAgLmFkZFRvKG1hcF84ZjRkYTVkZDU3YmU0MDM0OTg4NDE3M2VjNTkzYWMxZCk7CiAgICAgICAgICAgIAogICAgCiAgICAgICAgdmFyIG1hcmtlcl81ZmY0M2MzZGQ5ZTQ0YzVjYWRkNjM1MjRhZTczN2UwYiA9IEwubWFya2VyKAogICAgICAgICAgICBbNTEuNDg3MTI3LCAtMC4xMTExNDhdLAogICAgICAgICAgICB7CiAgICAgICAgICAgICAgICBpY29uOiBuZXcgTC5JY29uLkRlZmF1bHQoKSwKICAgICAgICAgICAgICAgIH0KICAgICAgICAgICAgKS5hZGRUbyhtYXBfOGY0ZGE1ZGQ1N2JlNDAzNDk4ODQxNzNlYzU5M2FjMWQpOwogICAgICAgIAo8L3NjcmlwdD4= onload=\"this.contentDocument.open();this.contentDocument.write(atob(this.getAttribute('data-html')));this.contentDocument.close();\" allowfullscreen webkitallowfullscreen mozallowfullscreen></iframe></div></div>"
            ],
            "text/plain": [
              "<folium.folium.Map at 0x7fed6306ca90>"
            ]
          },
          "metadata": {
            "tags": []
          },
          "execution_count": 5
        }
      ]
    }
  ]
}